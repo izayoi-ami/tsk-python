{
 "cells": [
  {
   "cell_type": "markdown",
   "id": "935eb844-790f-4a04-a005-5867c327f2eb",
   "metadata": {},
   "source": [
    "# Introduction to Python 3\n",
    "\n",
    "## Useful Link\n",
    "\n",
    "- [Official documentation](https://docs.python.org/3/)\n"
   ]
  },
  {
   "cell_type": "markdown",
   "id": "dc832129-3dc8-4f17-aa1a-7595b1fea6ae",
   "metadata": {
    "tags": []
   },
   "source": [
    "## Arithmetic operators\n",
    "\n",
    "| 1st operand type | Operator | 2nd operand type | Description | \n",
    "| --- | --- | --- | --- |\n",
    "| numeric | +  | numeric | plus |\n",
    "| numeric | -  | numeric | minus|\n",
    "| numeric | *  | numeric | times |\n",
    "| numeric | /  | numeric | real division |\n",
    "| numeric | ** | numeric | exponentiation ($a^b$) |\n"
   ]
  },
  {
   "cell_type": "code",
   "execution_count": 2,
   "id": "abbaa0c6-c76a-4c0d-b213-5d86a4413357",
   "metadata": {},
   "outputs": [
    {
     "data": {
      "text/plain": [
       "13"
      ]
     },
     "execution_count": 2,
     "metadata": {},
     "output_type": "execute_result"
    }
   ],
   "source": [
    "10+3"
   ]
  },
  {
   "cell_type": "code",
   "execution_count": 3,
   "id": "e8a74e6f-dbef-4624-baf4-55ba5210d5ad",
   "metadata": {},
   "outputs": [
    {
     "data": {
      "text/plain": [
       "6"
      ]
     },
     "execution_count": 3,
     "metadata": {},
     "output_type": "execute_result"
    }
   ],
   "source": [
    "10-4"
   ]
  },
  {
   "cell_type": "code",
   "execution_count": 5,
   "id": "d6403219-38cc-4327-bc2a-f9bd0a9a18e3",
   "metadata": {},
   "outputs": [
    {
     "data": {
      "text/plain": [
       "225"
      ]
     },
     "execution_count": 5,
     "metadata": {},
     "output_type": "execute_result"
    }
   ],
   "source": [
    "15*15"
   ]
  },
  {
   "cell_type": "code",
   "execution_count": 7,
   "id": "a3b4def8-780f-440c-ba50-71012f65e6ac",
   "metadata": {},
   "outputs": [
    {
     "data": {
      "text/plain": [
       "7.5"
      ]
     },
     "execution_count": 7,
     "metadata": {},
     "output_type": "execute_result"
    }
   ],
   "source": [
    "15/2"
   ]
  },
  {
   "cell_type": "markdown",
   "id": "c0e9955a-b685-45e1-9476-5bec4d297ba7",
   "metadata": {
    "tags": []
   },
   "source": [
    "### Data types\n",
    "\n",
    "In programming, the concept of data types appears. A computer represents integers and decimals virtually different internally.\n",
    "\n",
    "Python is still a **strongly-typed** programming language. Unlike C/C++/Java, Python is a dynamically-typed language.\n",
    "\n",
    "1. One needs to pay attention to data type carefully.\n",
    "1. Little implicit type converions happens. In contrast to other weakly-typed language, one often sees TypeError.\n"
   ]
  },
  {
   "cell_type": "code",
   "execution_count": 6,
   "id": "418f004d-dc44-400e-97e3-73d2be325f4a",
   "metadata": {},
   "outputs": [
    {
     "data": {
      "text/plain": [
       "5.0"
      ]
     },
     "execution_count": 6,
     "metadata": {},
     "output_type": "execute_result"
    }
   ],
   "source": [
    "15/3"
   ]
  },
  {
   "cell_type": "code",
   "execution_count": 11,
   "id": "7125f94b-f4f3-48a6-81ac-a490e6dd6278",
   "metadata": {},
   "outputs": [
    {
     "data": {
      "text/plain": [
       "5.0"
      ]
     },
     "execution_count": 11,
     "metadata": {},
     "output_type": "execute_result"
    }
   ],
   "source": [
    "10 / 2"
   ]
  },
  {
   "cell_type": "code",
   "execution_count": 10,
   "id": "4f75c152-2f8f-439f-a7a1-dbc631534c18",
   "metadata": {},
   "outputs": [
    {
     "data": {
      "text/plain": [
       "9.0"
      ]
     },
     "execution_count": 10,
     "metadata": {},
     "output_type": "execute_result"
    }
   ],
   "source": [
    "3 ** 2.0"
   ]
  },
  {
   "cell_type": "code",
   "execution_count": 13,
   "id": "20841df6-988b-43f4-b3ac-c54a2b245ce5",
   "metadata": {},
   "outputs": [
    {
     "data": {
      "text/plain": [
       "9"
      ]
     },
     "execution_count": 13,
     "metadata": {},
     "output_type": "execute_result"
    }
   ],
   "source": [
    "3**2"
   ]
  },
  {
   "cell_type": "markdown",
   "id": "2be9a8fd-4bc3-402e-8c1a-73d7dccccd66",
   "metadata": {},
   "source": [
    "### Thinking corner\n",
    "\n",
    "Do you notice any difference in the result of the last cell?"
   ]
  },
  {
   "cell_type": "code",
   "execution_count": 14,
   "id": "4445472c-fad4-4b72-bf88-e6dbe93a2f04",
   "metadata": {},
   "outputs": [
    {
     "data": {
      "text/plain": [
       "float"
      ]
     },
     "execution_count": 14,
     "metadata": {},
     "output_type": "execute_result"
    }
   ],
   "source": [
    "type(15/3)"
   ]
  },
  {
   "cell_type": "code",
   "execution_count": 15,
   "id": "74b71e5d-e4bd-4c85-a05f-3cf62c0e89bd",
   "metadata": {},
   "outputs": [
    {
     "data": {
      "text/plain": [
       "int"
      ]
     },
     "execution_count": 15,
     "metadata": {},
     "output_type": "execute_result"
    }
   ],
   "source": [
    "type(3**2)"
   ]
  },
  {
   "attachments": {
    "85ad9cfb-d906-486e-8a3c-f3bb1174db52.png": {
     "image/png": "[encoded data removed]"
    }
   },
   "cell_type": "markdown",
   "id": "bafc79ad-b616-4f26-8e19-c208520eb9a4",
   "metadata": {
    "tags": []
   },
   "source": [
    "### Side Example\n",
    "\n",
    "For those who have some experience with `javascript` or web programming.\n",
    "\n",
    "Have you ever encountered the following funny situation?\n",
    "\n",
    "You can test in your developer console to see the below amazing results\n",
    "\n",
    "![image.png](attachment:85ad9cfb-d906-486e-8a3c-f3bb1174db52.png)"
   ]
  },
  {
   "cell_type": "markdown",
   "id": "eeddbdce-d5d0-4ed1-9cd2-6a7524acfcba",
   "metadata": {},
   "source": [
    "### Common primitive data types in Python\n",
    "\n",
    "1. integers\n",
    "1. floats\n",
    "1. booleans\n",
    "1. strings\n"
   ]
  },
  {
   "cell_type": "markdown",
   "id": "41674275-86db-4a44-8fdb-a4749694ce35",
   "metadata": {},
   "source": [
    "### Strings\n",
    "\n",
    "Strings represent sequences of characters, which is enclosed by a pair of double-quotes (\")  or single-quotes ('). There are interchangable in python."
   ]
  },
  {
   "cell_type": "code",
   "execution_count": 18,
   "id": "75ca4a51-ab12-4dd7-85ee-84642ff9a755",
   "metadata": {},
   "outputs": [
    {
     "data": {
      "text/plain": [
       "'HelloHelloHelloHello'"
      ]
     },
     "execution_count": 18,
     "metadata": {},
     "output_type": "execute_result"
    }
   ],
   "source": [
    "\"Hello\" * 4"
   ]
  },
  {
   "cell_type": "code",
   "execution_count": 20,
   "id": "d9282be0-4bb2-4d9f-ba95-1c3c21095f9d",
   "metadata": {},
   "outputs": [
    {
     "data": {
      "text/plain": [
       "'10101010'"
      ]
     },
     "execution_count": 20,
     "metadata": {},
     "output_type": "execute_result"
    }
   ],
   "source": [
    "\"10\" * 4"
   ]
  },
  {
   "cell_type": "code",
   "execution_count": 21,
   "id": "749bfb5a-e5d7-4280-9a7b-45d4a859b30f",
   "metadata": {},
   "outputs": [
    {
     "ename": "TypeError",
     "evalue": "can only concatenate str (not \"int\") to str",
     "output_type": "error",
     "traceback": [
      "\u001b[0;31m---------------------------------------------------------------------------\u001b[0m",
      "\u001b[0;31mTypeError\u001b[0m                                 Traceback (most recent call last)",
      "Input \u001b[0;32mIn [21]\u001b[0m, in \u001b[0;36m<cell line: 1>\u001b[0;34m()\u001b[0m\n\u001b[0;32m----> 1\u001b[0m \u001b[38;5;124;43m\"\u001b[39;49m\u001b[38;5;124;43m10\u001b[39;49m\u001b[38;5;124;43m\"\u001b[39;49m\u001b[43m \u001b[49m\u001b[38;5;241;43m+\u001b[39;49m\u001b[43m \u001b[49m\u001b[38;5;241;43m4\u001b[39;49m\n",
      "\u001b[0;31mTypeError\u001b[0m: can only concatenate str (not \"int\") to str"
     ]
    }
   ],
   "source": [
    "\"10\" + 4   # It is non-sense in python."
   ]
  },
  {
   "cell_type": "markdown",
   "id": "123021c8-6359-4404-8ddd-8cce87f062bc",
   "metadata": {
    "tags": []
   },
   "source": [
    "## Integer operation\n",
    "\n",
    "\n",
    "| 1st operand type | Operator | 2nd operand type | Description | \n",
    "| --- | --- | --- | --- |\n",
    "| int | //  | int | quotient |\n",
    "| int | %  | int | remainder |"
   ]
  },
  {
   "cell_type": "code",
   "execution_count": 2,
   "id": "15064be5-8a3e-4aab-a29a-fccfa73937a8",
   "metadata": {},
   "outputs": [
    {
     "data": {
      "text/plain": [
       "5"
      ]
     },
     "execution_count": 2,
     "metadata": {},
     "output_type": "execute_result"
    }
   ],
   "source": [
    "26//5"
   ]
  },
  {
   "cell_type": "code",
   "execution_count": 3,
   "id": "4d76c7d5-6bf7-44f5-87a7-1710f58313d7",
   "metadata": {},
   "outputs": [
    {
     "data": {
      "text/plain": [
       "1"
      ]
     },
     "execution_count": 3,
     "metadata": {},
     "output_type": "execute_result"
    }
   ],
   "source": [
    "26%5"
   ]
  },
  {
   "cell_type": "markdown",
   "id": "dda39239-cd8e-4009-aa78-f87436eb726d",
   "metadata": {},
   "source": [
    "### Quotient and remainder when dividen is negative\n",
    "\n",
    "Python takes the mathematical definition for **quotient** and **remainder** as follow when the divisor is positive:\n",
    "\n",
    "**Theorem (Division algorithm)** Let $a$ and $b>0$ be integers. There exists a unique pair of integer $q$ and $r$ satisfying \n",
    "1. $a = qb + r$\n",
    "1. $0\\leq r < b$\n",
    "\n",
    "We call $q$ and $r$ the **quotient** and **remainder** when a is divided by b."
   ]
  },
  {
   "cell_type": "code",
   "execution_count": 12,
   "id": "4ead3652-24f2-4a7c-b5f6-9b5005d14cd3",
   "metadata": {},
   "outputs": [
    {
     "data": {
      "text/plain": [
       "-3"
      ]
     },
     "execution_count": 12,
     "metadata": {},
     "output_type": "execute_result"
    }
   ],
   "source": [
    "(-15)//7"
   ]
  },
  {
   "cell_type": "code",
   "execution_count": 13,
   "id": "dd278ba9-2915-4308-8264-f20f489c0c40",
   "metadata": {},
   "outputs": [
    {
     "data": {
      "text/plain": [
       "6"
      ]
     },
     "execution_count": 13,
     "metadata": {},
     "output_type": "execute_result"
    }
   ],
   "source": [
    "(-15) % 7"
   ]
  },
  {
   "cell_type": "markdown",
   "id": "b2de92c9-de8c-4af8-929c-d565ca237b83",
   "metadata": {},
   "source": [
    "## Type conversion\n",
    "\n",
    "We can force a numeric result to become an integer by using `int()`\n",
    "\n",
    "The result is truncated towards zero instead of rounding/ceiling/floor."
   ]
  },
  {
   "cell_type": "code",
   "execution_count": 14,
   "id": "3cc37f0c-c2d0-4a45-ba43-309af019b927",
   "metadata": {},
   "outputs": [
    {
     "data": {
      "text/plain": [
       "12"
      ]
     },
     "execution_count": 14,
     "metadata": {},
     "output_type": "execute_result"
    }
   ],
   "source": [
    "int(12.5)"
   ]
  },
  {
   "cell_type": "code",
   "execution_count": 15,
   "id": "703255d5-453e-4382-a32a-dd2bad44d865",
   "metadata": {},
   "outputs": [
    {
     "data": {
      "text/plain": [
       "13"
      ]
     },
     "execution_count": 15,
     "metadata": {},
     "output_type": "execute_result"
    }
   ],
   "source": [
    "int(13.8)"
   ]
  },
  {
   "cell_type": "code",
   "execution_count": 16,
   "id": "60fd79ce-1771-4897-8b09-789ed5da7452",
   "metadata": {},
   "outputs": [
    {
     "data": {
      "text/plain": [
       "-12"
      ]
     },
     "execution_count": 16,
     "metadata": {},
     "output_type": "execute_result"
    }
   ],
   "source": [
    "int(-12.8)"
   ]
  },
  {
   "cell_type": "markdown",
   "id": "745b2840-9d88-429b-8212-07b063adc648",
   "metadata": {},
   "source": [
    "## IEEE-floating point\n",
    "\n",
    "Computer represents non-integral numbers according to IEEE-754. This way approximates a majority of (mathematically) rational numbers. \n",
    "\n",
    "\n",
    "- [Double](https://en.wikipedia.org/wiki/Double-precision_floating-point_format)\n",
    "- [Single](https://en.wikipedia.org/wiki/Single-precision_floating-point_format)\n",
    "\n",
    "\n",
    "For those who are into maths, unfortunately, there is no way to represent every real number in a computer. One can prove this by an elegant countability argument.\n",
    "\n",
    "There are funny cases which human being uses often in decimal but not allowed in the floating point representation."
   ]
  },
  {
   "cell_type": "code",
   "execution_count": 25,
   "id": "ca7fbd5d-0bea-43c1-9924-4071a19aefa3",
   "metadata": {},
   "outputs": [
    {
     "data": {
      "text/plain": [
       "False"
      ]
     },
     "execution_count": 25,
     "metadata": {},
     "output_type": "execute_result"
    }
   ],
   "source": [
    "0.1 + 0.2 == 0.3"
   ]
  },
  {
   "cell_type": "code",
   "execution_count": 26,
   "id": "74f4f874-6ae3-4bc1-ad85-df92a538777f",
   "metadata": {},
   "outputs": [
    {
     "data": {
      "text/plain": [
       "0.30000000000000004"
      ]
     },
     "execution_count": 26,
     "metadata": {},
     "output_type": "execute_result"
    }
   ],
   "source": [
    "0.1 + 0.2"
   ]
  },
  {
   "cell_type": "code",
   "execution_count": 27,
   "id": "9f4a5368-77e6-45ee-bb75-4e5b82966165",
   "metadata": {},
   "outputs": [
    {
     "data": {
      "text/plain": [
       "126"
      ]
     },
     "execution_count": 27,
     "metadata": {},
     "output_type": "execute_result"
    }
   ],
   "source": [
    "9 * 14"
   ]
  },
  {
   "cell_type": "code",
   "execution_count": 28,
   "id": "888bb1e6-0b1f-44e5-9e17-6179aec1ec81",
   "metadata": {},
   "outputs": [
    {
     "data": {
      "text/plain": [
       "125.99999999999999"
      ]
     },
     "execution_count": 28,
     "metadata": {},
     "output_type": "execute_result"
    }
   ],
   "source": [
    "1.4 * 90"
   ]
  },
  {
   "cell_type": "code",
   "execution_count": 33,
   "id": "cd382a57-3e42-4a82-90a6-40fe001b9631",
   "metadata": {},
   "outputs": [
    {
     "data": {
      "text/plain": [
       "False"
      ]
     },
     "execution_count": 33,
     "metadata": {},
     "output_type": "execute_result"
    }
   ],
   "source": [
    "9 * 14 == 1.4 * 90"
   ]
  },
  {
   "cell_type": "code",
   "execution_count": 34,
   "id": "b324ea3e-bc34-487c-ac1a-4cb3c733cbbe",
   "metadata": {},
   "outputs": [
    {
     "data": {
      "text/plain": [
       "True"
      ]
     },
     "execution_count": 34,
     "metadata": {},
     "output_type": "execute_result"
    }
   ],
   "source": [
    "1.0 + 2.0 == 3"
   ]
  },
  {
   "cell_type": "markdown",
   "id": "6b8be676-fe38-4ab8-bc4f-42b1dc2ad3ce",
   "metadata": {},
   "source": [
    "In the course, we try to avoid the usage of floating point and limit our cases to just integers, boolean and strings"
   ]
  },
  {
   "cell_type": "markdown",
   "id": "18a0afe8-0b63-4854-8007-2eb41a499627",
   "metadata": {},
   "source": [
    "## Boolean\n",
    "\n",
    "It represents True/False only.\n",
    "\n",
    "1. True\n",
    "1. False\n",
    "\n",
    "#### Comparison operators\n",
    "\n",
    "```\n",
    ">\n",
    "<\n",
    ">=\n",
    "<=\n",
    "!=\n",
    "==\n",
    "```\n",
    "\n",
    "#### Logical operators\n",
    "1. `or`\n",
    "1. `and`\n",
    "1. `not`"
   ]
  },
  {
   "cell_type": "code",
   "execution_count": null,
   "id": "2b45bb62-13bf-4d57-9f19-8ad74f1a1c25",
   "metadata": {},
   "outputs": [],
   "source": []
  }
 ],
 "metadata": {
  "kernelspec": {
   "display_name": "Python 3 (ipykernel)",
   "language": "python",
   "name": "python3"
  },
  "language_info": {
   "codemirror_mode": {
    "name": "ipython",
    "version": 3
   },
   "file_extension": ".py",
   "mimetype": "text/x-python",
   "name": "python",
   "nbconvert_exporter": "python",
   "pygments_lexer": "ipython3",
   "version": "3.9.12"
  }
 },
 "nbformat": 4,
 "nbformat_minor": 5
}
