{
 "cells": [
  {
   "cell_type": "markdown",
   "id": "935eb844-790f-4a04-a005-5867c327f2eb",
   "metadata": {
    "tags": []
   },
   "source": [
    "#  Variables\n",
    "\n",
    "Variables are used to store results. In Python, `=` is reserved for this \"store\" operation.\n",
    "\n",
    "\n",
    "`variable_name = expression`\n",
    "\n",
    "Python is a case sensitive programming language. It implies that `A` and `a` are different."
   ]
  },
  {
   "cell_type": "code",
   "execution_count": 35,
   "id": "2b45bb62-13bf-4d57-9f19-8ad74f1a1c25",
   "metadata": {},
   "outputs": [
    {
     "name": "stdout",
     "output_type": "stream",
     "text": [
      "11\n"
     ]
    }
   ],
   "source": [
    "x = 10\n",
    "print(x+1)"
   ]
  },
  {
   "cell_type": "code",
   "execution_count": 1,
   "id": "e0fd96d9-2410-4133-a1a2-6a319f58645f",
   "metadata": {},
   "outputs": [
    {
     "name": "stdout",
     "output_type": "stream",
     "text": [
      "10000\n"
     ]
    }
   ],
   "source": [
    "x = 10\n",
    "x = x*x   # Store the results of the expression  x*x , which is 10*10, and hence 100 to variable x\n",
    "x = x*x\n",
    "print(x)"
   ]
  },
  {
   "cell_type": "code",
   "execution_count": 2,
   "id": "4ffcf69f-7bee-47d3-9e74-a0cf6ec87ae6",
   "metadata": {},
   "outputs": [
    {
     "name": "stdout",
     "output_type": "stream",
     "text": [
      "10 5\n"
     ]
    }
   ],
   "source": [
    "a = 10\n",
    "b = 5\n",
    "print(a,b)"
   ]
  },
  {
   "cell_type": "code",
   "execution_count": 5,
   "id": "faf7e8f5-0ec2-4f73-8b40-cd7470eeb571",
   "metadata": {},
   "outputs": [
    {
     "name": "stdout",
     "output_type": "stream",
     "text": [
      "5 10\n"
     ]
    }
   ],
   "source": [
    "a = 10\n",
    "b = 5\n",
    "a,b = b,a # swap values\n",
    "print(a,b)"
   ]
  },
  {
   "cell_type": "markdown",
   "id": "e89f6783-84eb-4457-b738-a2eb0754f349",
   "metadata": {},
   "source": [
    "## User input\n",
    "\n",
    "We can use `input()` to ask for user input."
   ]
  },
  {
   "cell_type": "code",
   "execution_count": 11,
   "id": "a56df88a-c23a-41ec-a61b-f7e7784b1ddb",
   "metadata": {},
   "outputs": [
    {
     "name": "stdout",
     "output_type": "stream",
     "text": [
      "What is your name?\n"
     ]
    },
    {
     "name": "stdin",
     "output_type": "stream",
     "text": [
      " Jack\n"
     ]
    },
    {
     "name": "stdout",
     "output_type": "stream",
     "text": [
      "Hi Jack\n"
     ]
    }
   ],
   "source": [
    "print(\"What is your name?\")\n",
    "user_name = input()\n",
    "print(\"Hi\", user_name)"
   ]
  },
  {
   "cell_type": "markdown",
   "id": "e1c22b2d-e62c-4d75-8ef4-49d30dce1c30",
   "metadata": {},
   "source": [
    "## Example\n",
    "\n",
    "The below code tries to read user's age and multiplies it by 4.\n",
    "\n",
    "What's wrong?"
   ]
  },
  {
   "cell_type": "code",
   "execution_count": 14,
   "id": "5e0ae8bd-6120-4568-9016-a1d9f305ffec",
   "metadata": {},
   "outputs": [
    {
     "name": "stdout",
     "output_type": "stream",
     "text": [
      "What is your age?\n"
     ]
    },
    {
     "name": "stdin",
     "output_type": "stream",
     "text": [
      " 20\n"
     ]
    },
    {
     "name": "stdout",
     "output_type": "stream",
     "text": [
      "Four times of your age is 20202020\n"
     ]
    }
   ],
   "source": [
    "print(\"What is your age?\")\n",
    "user_age = input()\n",
    "print(\"Four times of your age is\", user_age * 4)"
   ]
  },
  {
   "cell_type": "markdown",
   "id": "9c5d94f7-054e-4a11-99e0-f8c6f6b76b28",
   "metadata": {},
   "source": [
    "## A correct way\n",
    "\n",
    "From the above example, we see that all the inputs is a string."
   ]
  },
  {
   "cell_type": "code",
   "execution_count": 15,
   "id": "afe97791-1119-4d5a-9a6e-e889f089d9ea",
   "metadata": {},
   "outputs": [
    {
     "name": "stdout",
     "output_type": "stream",
     "text": [
      "What is your age?\n"
     ]
    },
    {
     "name": "stdin",
     "output_type": "stream",
     "text": [
      " 20\n"
     ]
    },
    {
     "name": "stdout",
     "output_type": "stream",
     "text": [
      "Four times of your age is 80\n"
     ]
    }
   ],
   "source": [
    "print(\"What is your age?\")\n",
    "user_age = int(input())\n",
    "print(\"Four times of your age is\", user_age * 4)"
   ]
  },
  {
   "cell_type": "code",
   "execution_count": null,
   "id": "8e64223c-d22f-43a3-aa52-0d90167b185b",
   "metadata": {},
   "outputs": [],
   "source": []
  }
 ],
 "metadata": {
  "kernelspec": {
   "display_name": "Python 3 (ipykernel)",
   "language": "python",
   "name": "python3"
  },
  "language_info": {
   "codemirror_mode": {
    "name": "ipython",
    "version": 3
   },
   "file_extension": ".py",
   "mimetype": "text/x-python",
   "name": "python",
   "nbconvert_exporter": "python",
   "pygments_lexer": "ipython3",
   "version": "3.9.12"
  }
 },
 "nbformat": 4,
 "nbformat_minor": 5
}
