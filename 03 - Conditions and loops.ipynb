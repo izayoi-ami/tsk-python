{
 "cells": [
  {
   "cell_type": "markdown",
   "id": "935eb844-790f-4a04-a005-5867c327f2eb",
   "metadata": {
    "tags": []
   },
   "source": [
    "# Conditions\n",
    "\n",
    "We can ask the computer to perform various actions according to certain conditions.\n",
    "\n",
    "| Grade | Score |\n",
    "| --- |  --- |\n",
    "| A | $\\geq 90$|\n",
    "| B | 80 to 89 |\n",
    "| C | 70 to 79 | \n",
    "| D | 60 to 69 |\n",
    "| F | Otherwise|"
   ]
  },
  {
   "cell_type": "code",
   "execution_count": 1,
   "id": "8e64223c-d22f-43a3-aa52-0d90167b185b",
   "metadata": {},
   "outputs": [
    {
     "name": "stdout",
     "output_type": "stream",
     "text": [
      "What's your score\n"
     ]
    },
    {
     "name": "stdin",
     "output_type": "stream",
     "text": [
      " 76\n"
     ]
    },
    {
     "name": "stdout",
     "output_type": "stream",
     "text": [
      "C\n"
     ]
    }
   ],
   "source": [
    "print(\"What's your score\")\n",
    "score = int(input())\n",
    "\n",
    "if score >= 90:\n",
    "    print(\"A\")\n",
    "elif score >= 80:\n",
    "    print(\"B\")\n",
    "elif score >= 70:\n",
    "    print(\"C\")\n",
    "elif score >= 60:\n",
    "    print(\"D\")\n",
    "else:\n",
    "    print(\"F\")"
   ]
  },
  {
   "cell_type": "code",
   "execution_count": null,
   "id": "a3b3834f-c6cd-4eb5-af62-0be700421989",
   "metadata": {},
   "outputs": [],
   "source": [
    "```\n",
    "```"
   ]
  }
 ],
 "metadata": {
  "kernelspec": {
   "display_name": "Python 3 (ipykernel)",
   "language": "python",
   "name": "python3"
  },
  "language_info": {
   "codemirror_mode": {
    "name": "ipython",
    "version": 3
   },
   "file_extension": ".py",
   "mimetype": "text/x-python",
   "name": "python",
   "nbconvert_exporter": "python",
   "pygments_lexer": "ipython3",
   "version": "3.9.12"
  }
 },
 "nbformat": 4,
 "nbformat_minor": 5
}
